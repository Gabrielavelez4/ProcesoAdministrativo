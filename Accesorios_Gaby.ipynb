{
  "nbformat": 4,
  "nbformat_minor": 0,
  "metadata": {
    "colab": {
      "provenance": [],
      "authorship_tag": "ABX9TyNSFxZP9rDw3GY083NZgVxY",
      "include_colab_link": true
    },
    "kernelspec": {
      "name": "python3",
      "display_name": "Python 3"
    },
    "language_info": {
      "name": "python"
    }
  },
  "cells": [
    {
      "cell_type": "markdown",
      "metadata": {
        "id": "view-in-github",
        "colab_type": "text"
      },
      "source": [
        "<a href=\"https://colab.research.google.com/github/Gabrielavelez4/ProcesoAdministrativo/blob/main/Accesorios_Gaby.ipynb\" target=\"_parent\"><img src=\"https://colab.research.google.com/assets/colab-badge.svg\" alt=\"Open In Colab\"/></a>"
      ]
    },
    {
      "cell_type": "code",
      "execution_count": null,
      "metadata": {
        "id": "1qXH4M4PC9D8"
      },
      "outputs": [],
      "source": [
        "# Variables tipo texto\n",
        "nombre_negocio = \"Accesorios Gaby\"\n",
        "tipo_productos = \"Accesorios de Cover Gold\"\n",
        "\n",
        "# Lista de materiales utilizados\n",
        "materiales = [\"Cover Gold\", \"Hilos de alta calidad\", \"Broches de acero inoxidable\"]\n",
        "print(\"Materiales utilizados en los accesorios:\", materiales)\n",
        "print(\"Primer material:\", materiales[0])\n",
        "print(\"Segundo material:\", materiales[1])\n",
        "print(\"Tercer material:\", materiales[2])\n",
        "\n",
        "# Número total de materiales\n",
        "cantidad_materiales = len(materiales)\n",
        "print(\"Cantidad total de materiales utilizados:\", cantidad_materiales)\n",
        "\n",
        "# Diccionario con procesos clave del negocio\n",
        "procesos_negocio = {\n",
        "    \"Proveedores\": \"Selección y negociación con proveedores de accesorios\"\n",
        "    \"Comercialización\": \"Estrategias de venta en tiendas y plataformas digitales\",\n",
        "    \"Marketing\": \"Promoción en redes sociales y ferias de moda\",\n",
        "\n",
        "}\n",
        "print(\"Procesos clave en Accesorios Gaby:\", procesos_negocio)\n",
        "print(\"El proceso de proveedor consiste en:\", procesos_negocio[\"Proveedor\"])\n",
        "print(\"El proceso de comercialziacion implica:\", procesos_negocio[\"comercializacion\"])\n",
        "print(\"La estrategia de Marketing incluye:\", procesos_negocio[\"Marketing\"])\n",
        "\n",
        "# Función para dar la bienvenida a nuevos socios o colaboradores\n",
        "def bienvenida(Juliana):\n",
        "    print(f\"¡Bienvenido/a {Juliana} a Accesorios Gaby! Juntos crearemos piezas únicas y de calidad.\")\n",
        "\n",
        "bienvenida(\"Juliana\")\n",
        "\n",
        "# Evaluación del uso de materiales\n",
        "if cantidad_accesorios > 50:\n",
        "    print(\"Gran variedad de accesorios.\")\n",
        "elif cantidad_materiales == 30:\n",
        "    print(\"cifra razonable de accesorios.\")\n",
        "else:\n",
        "    print(\"Podemos considerar ampliar el inventario.\")\n",
        "\n",
        "# Análisis FODA de Accesorios Gaby\n",
        "foda_accesorios_gaby = {\n",
        "    \"Debilidades\": [\n",
        "        \"Gestión del tiempo.\",\n",
        "        \"Estrategias de marketing.\",\n",
        "        \"Dependencia de redes sociales.\",\n",
        "        \"Necesidad de mejorar la administración de inventario.\"\n",
        "    ],\n",
        "    \"Oportunidades\": [\n",
        "        \"Crecimiento del mercado de accesorios.\",\n",
        "        \"Interés en productos duraderos y de calidad.\",\n",
        "        \"Uso de influencers y colaboraciones.\",\n",
        "        \"Tendencia de compra online.\",\n",
        "        \"Eventos y ferias de moda.\"\n",
        "    ],\n",
        "    \"Fortalezas\": [\n",
        "        \"Material de alta calidad.\",\n",
        "        \"Versatilidad en los productos.\",\n",
        "        \"Buena relación con los clientes.\",\n",
        "        \"Pasión y compromiso con el emprendimiento.\",\n",
        "        \"Presencia en redes sociales.\"\n",
        "    ],\n",
        "    \"Amenazas\": [\n",
        "        \"Alta competencia en el mercado.\",\n",
        "        \"Fluctuación en el costo de materiales.\",\n",
        "        \"Cambios en las tendencias de moda.\",\n",
        "        \"Dificultades logísticas.\",\n",
        "        \"Riesgos en la confianza del cliente.\",\n",
        "        \"Saturación del mercado digital.\"\n",
        "    ]\n",
        "}\n",
        "\n",
        "# Mostrar FODA\n",
        "for clave, valores in foda_accesorios_gaby.items():\n",
        "    print(f\"\\n{clave}:\")\n",
        "    for valor in valores:\n",
        "        print(f\"- {valor}\")\n"
      ]
    }
  ]
}