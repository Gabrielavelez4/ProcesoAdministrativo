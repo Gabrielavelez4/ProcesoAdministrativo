{
  "nbformat": 4,
  "nbformat_minor": 0,
  "metadata": {
    "colab": {
      "provenance": [],
      "authorship_tag": "ABX9TyMflUylokBPRlUT+MHBVXGt",
      "include_colab_link": true
    },
    "kernelspec": {
      "name": "python3",
      "display_name": "Python 3"
    },
    "language_info": {
      "name": "python"
    }
  },
  "cells": [
    {
      "cell_type": "markdown",
      "metadata": {
        "id": "view-in-github",
        "colab_type": "text"
      },
      "source": [
        "<a href=\"https://colab.research.google.com/github/Gabrielavelez4/ProcesoAdministrativo/blob/main/Canva_social.ipynb\" target=\"_parent\"><img src=\"https://colab.research.google.com/assets/colab-badge.svg\" alt=\"Open In Colab\"/></a>"
      ]
    },
    {
      "cell_type": "code",
      "execution_count": null,
      "metadata": {
        "colab": {
          "base_uri": "https://localhost:8080/"
        },
        "id": "H9A7pQvw8U4n",
        "outputId": "ee3e99ad-dfc1-40bc-f903-0a4bafd9f52a"
      },
      "outputs": [
        {
          "output_type": "stream",
          "name": "stdout",
          "text": [
            "Productos y servicios disponibles:\n",
            "['Chontaduro fresco', 'Chontaduro cocido', 'Chontaduro empacado al vacío', 'Servicio de cocción', 'Servicio de empaque']\n",
            "Producto principal: Chontaduro fresco\n",
            "Servicio especial: Servicio de cocción\n",
            "Total de productos y servicios en la oferta: 5\n",
            "Recursos clave del negocio:\n",
            "{'Barril de acero inoxidable': 'Permite cocción eficiente en grandes cantidades', 'Cuchillos de acero': 'Para pelado y preparación', 'Selladora al vacío': 'Para conservación prolongada del chontaduro', 'Carro repartidor': 'Entrega a domicilio y mayoristas'}\n",
            "Barril de acero inoxidable sirve para: Permite cocción eficiente en grandes cantidades\n",
            "El carro repartidor es útil para: Entrega a domicilio y mayoristas\n",
            "Este producto o servicio es: Chontaduro cocido\n",
            "Este producto o servicio es: Servicio de cocción\n",
            "El negocio ofrece una variedad completa de productos y servicios.\n",
            "\n",
            "Fortalezas:\n",
            "- Especialización en un producto típico con alta demanda en temporadas\n",
            "- Servicio adicional de cocción que agrega valor al cliente\n",
            "- Modelo de venta bajo pedido que reduce desperdicios y optimiza inventario\n",
            "- Conocimiento del mercado y de los procesos de selección y cocción del producto\n",
            "\n",
            "Oportunidades:\n",
            "- Crecimiento de la tendencia hacia el consumo de productos naturales y tradicionales\n",
            "- Alianzas con restaurantes, fruterías, plazas de mercado y emprendedores gastronómicos\n",
            "- Participación en ferias gastronómicas y eventos culturales\n",
            "- Posibilidad de expansión a otras ciudades o envío nacional\n",
            "\n",
            "Debilidades:\n",
            "- Dependencia de temporadas o cosechas específicas\n",
            "- Limitaciones logísticas para entregas fuera de la región\n",
            "- Infraestructura básica para cocción en grandes volúmenes (si aún está en desarrollo)\n",
            "- Poca presencia en plataformas digitales o canales de venta online\n",
            "\n",
            "Amenazas:\n",
            "- Competencia con vendedores informales o no regulados\n",
            "- Variabilidad en precios y disponibilidad del chontaduro según la cosecha\n",
            "- Falta de educación del consumidor sobre los beneficios del producto cocido vs. crudo\n",
            "- Riesgos sanitarios si no se cumplen normas de manipulación y cocción\n"
          ]
        }
      ],
      "source": [
        "# Estas son mis variables tipo texto\n",
        "# Arreglos (listas) con los productos y servicios disponibles\n",
        "Lista_de_productos = [\"Chontaduro fresco\", \"Chontaduro cocido\", \"Chontaduro empacado al vacío\", \"Servicio de cocción\", \"Servicio de empaque\"]\n",
        "print(\"Productos y servicios disponibles:\")\n",
        "print(Lista_de_productos)\n",
        "print(\"Producto principal:\", Lista_de_productos[0])\n",
        "print(\"Servicio especial:\", Lista_de_productos[3])\n",
        "\n",
        "# Número de productos y servicios disponibles\n",
        "total_oferta = len(Lista_de_productos)\n",
        "print(\"Total de productos y servicios en la oferta:\", total_oferta)\n",
        "\n",
        "# Diccionario con herramientas o recursos del negocio\n",
        "Recursos_del_negocio = {\n",
        "    \"Barril de acero inoxidable\": \"Permite cocción eficiente en grandes cantidades\",\n",
        "    \"Cuchillos de acero\": \"Para pelado y preparación\",\n",
        "    \"Selladora al vacío\": \"Para conservación prolongada del chontaduro\",\n",
        "    \"Carro repartidor\": \"Entrega a domicilio y mayoristas\"\n",
        "}\n",
        "print(\"Recursos clave del negocio:\")\n",
        "print(Recursos_del_negocio)\n",
        "\n",
        "# Mostrando información específica\n",
        "print(\"Barril de acero inoxidable sirve para:\", Recursos_del_negocio[\"Barril de acero inoxidable\"])\n",
        "print(\"El carro repartidor es útil para:\", Recursos_del_negocio[\"Carro repartidor\"])\n",
        "\n",
        "# Definir una función para describir un producto o servicio\n",
        "def describir_oferta(oferta):\n",
        "    print(\"Este producto o servicio es: \" + oferta)\n",
        "\n",
        "describir_oferta(\"Chontaduro cocido\")\n",
        "describir_oferta(\"Servicio de cocción\")\n",
        "\n",
        "# Parámetros y condiciones según la cantidad de servicios\n",
        "if total_oferta >= 5:\n",
        "    print(\"El negocio ofrece una variedad completa de productos y servicios.\")\n",
        "elif total_oferta >= 3:\n",
        "    print(\"El negocio cuenta con una oferta básica, pero funcional.\")\n",
        "else:\n",
        "    print(\"Se recomienda ampliar la oferta de productos o servicios.\")\n",
        "\n",
        "# Análisis FODA del negocio de chontaduro\n",
        "foda_chontaduro = {\n",
        "    \"Fortalezas\": [\n",
        "        \"Especialización en un producto típico con alta demanda en temporadas\",\n",
        "        \"Servicio adicional de cocción que agrega valor al cliente\",\n",
        "        \"Modelo de venta bajo pedido que reduce desperdicios y optimiza inventario\",\n",
        "        \"Conocimiento del mercado y de los procesos de selección y cocción del producto\"\n",
        "    ],\n",
        "    \"Oportunidades\": [\n",
        "        \"Crecimiento de la tendencia hacia el consumo de productos naturales y tradicionales\",\n",
        "        \"Alianzas con restaurantes, fruterías, plazas de mercado y emprendedores gastronómicos\",\n",
        "        \"Participación en ferias gastronómicas y eventos culturales\",\n",
        "        \"Posibilidad de expansión a otras ciudades o envío nacional\"\n",
        "    ],\n",
        "    \"Debilidades\": [\n",
        "        \"Dependencia de temporadas o cosechas específicas\",\n",
        "        \"Limitaciones logísticas para entregas fuera de la región\",\n",
        "        \"Infraestructura básica para cocción en grandes volúmenes (si aún está en desarrollo)\",\n",
        "        \"Poca presencia en plataformas digitales o canales de venta online\"\n",
        "    ],\n",
        "    \"Amenazas\": [\n",
        "        \"Competencia con vendedores informales o no regulados\",\n",
        "        \"Variabilidad en precios y disponibilidad del chontaduro según la cosecha\",\n",
        "        \"Falta de educación del consumidor sobre los beneficios del producto cocido vs. crudo\",\n",
        "        \"Riesgos sanitarios si no se cumplen normas de manipulación y cocción\"\n",
        "    ]\n",
        "}\n",
        "\n",
        "for clave, valores in foda_chontaduro.items():\n",
        "    print(f\"\\n{clave}:\")\n",
        "    for valor in valores:\n",
        "        print(f\"- {valor}\")"
      ]
    }
  ]
}